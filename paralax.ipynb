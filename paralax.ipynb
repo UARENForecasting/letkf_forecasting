{
 "cells": [
  {
   "cell_type": "code",
   "execution_count": 8,
   "metadata": {
    "collapsed": false
   },
   "outputs": [
    {
     "name": "stderr",
     "output_type": "stream",
     "text": [
      "/home/travis/miniconda3/envs/py35Solar/lib/python3.5/site-packages/IPython/html.py:14: ShimWarning: The `IPython.html` package has been deprecated. You should import from `notebook` instead. `IPython.html.widgets` has moved to `ipywidgets`.\n",
      "  \"`IPython.html.widgets` has moved to `ipywidgets`.\", ShimWarning)\n"
     ]
    }
   ],
   "source": [
    "import sys\n",
    "import importlib\n",
    "\n",
    "import numpy as np\n",
    "import pandas as pd\n",
    "import xarray as xr\n",
    "import pvlib as pv\n",
    "import matplotlib.pyplot as plt\n",
    "import seaborn as sns"
   ]
  },
  {
   "cell_type": "code",
   "execution_count": 9,
   "metadata": {
    "collapsed": true
   },
   "outputs": [],
   "source": [
    "sns.set(style='whitegrid')\n",
    "sns.set_palette('deep', color_codes=True)\n",
    "sns.set_context('poster', font_scale=1.5)"
   ]
  },
  {
   "cell_type": "code",
   "execution_count": 2,
   "metadata": {
    "collapsed": true
   },
   "outputs": [],
   "source": [
    "%matplotlib inline"
   ]
  },
  {
   "cell_type": "code",
   "execution_count": null,
   "metadata": {
    "collapsed": true
   },
   "outputs": [],
   "source": [
    "%matplotlib notebook"
   ]
  },
  {
   "cell_type": "code",
   "execution_count": 3,
   "metadata": {
    "collapsed": true
   },
   "outputs": [],
   "source": [
    "sys.path.append('/home/travis/python_code/letkf_forecasting/')\n",
    "import letkf_forecasting as lf"
   ]
  },
  {
   "cell_type": "code",
   "execution_count": null,
   "metadata": {
    "collapsed": false
   },
   "outputs": [],
   "source": [
    "importlib.reload(lf)"
   ]
  },
  {
   "cell_type": "code",
   "execution_count": 19,
   "metadata": {
    "collapsed": false
   },
   "outputs": [
    {
     "name": "stdout",
     "output_type": "stream",
     "text": [
      "2014-04-15 18:52:50.879341824-07:00\n"
     ]
    }
   ],
   "source": [
    "end = sun_rise_set['sunset'][0]\n",
    "end = end.tz_localize('UTC').tz_convert('MST')\n",
    "print(end)"
   ]
  },
  {
   "cell_type": "code",
   "execution_count": 7,
   "metadata": {
    "collapsed": false,
    "scrolled": false
   },
   "outputs": [
    {
     "data": {
      "text/plain": [
       "(-60.0, 60.0, -60.0, 60.0)"
      ]
     },
     "execution_count": 7,
     "metadata": {},
     "output_type": "execute_result"
    },
    {
     "data": {
      "image/png": "[encoded data removed]",
      "text/plain": [
       "<matplotlib.figure.Figure at 0x7f26e1fd36d8>"
      ]
     },
     "metadata": {},
     "output_type": "display_data"
    },
    {
     "data": {
      "image/png": "[encoded data removed]",
      "text/plain": [
       "<matplotlib.figure.Figure at 0x7f269b01ce10>"
      ]
     },
     "metadata": {},
     "output_type": "display_data"
    }
   ],
   "source": [
    "tus = pv.location.Location(32.2, -111, 'US/Arizona', 700,'Tucson')\n",
    "sun_rise_set = pv.solarposition.get_sun_rise_set_transit(\n",
    "    time='2014-04-15', latitude=tus.latitude, longitude=tus.longitude)\n",
    "\n",
    "start = sun_rise_set['sunrise'][0]\n",
    "start = start.tz_localize('UTC').tz_convert('MST')\n",
    "start = start + pd.Timedelta('20min')\n",
    "\n",
    "end = sun_rise_set['sunset'][0]\n",
    "end = end.tz_localize('UTC').tz_convert('MST')\n",
    "end = end + pd.Timedelta('20min')\n",
    "\n",
    "# start = '2014-04-15 6:00:00'\n",
    "# end = '2014-04-15 8:00:00'\n",
    "times = pd.date_range(start=start, end=end, freq='2min')\n",
    "cloud_height = 2000 #meters\n",
    "\n",
    "#This is taken from http://www.groundcontrol.com/Satellite_Look_Angle_Calculator.html\n",
    "goes15_azimuth = 220.5*(2*np.pi)/360\n",
    "goes15_elevation = 44.1*(2*np.pi)/360\n",
    "\n",
    "\n",
    "solar_position = tus.get_solarposition(times)\n",
    "x_correct, y_correct = lf.parallax_shift(cloud_height,\n",
    "                     goes15_azimuth,\n",
    "                     goes15_elevation,\n",
    "                     solar_position['azimuth'].values*2*np.pi/360,\n",
    "                     solar_position['elevation'].values*2*np.pi/360)\n",
    "temp = np.linspace(-50, 50, 400)\n",
    "x, y = np.meshgrid(temp, temp)\n",
    "circ = np.sqrt(x**2 + y**2)\n",
    "circ[circ<=15] = 1\n",
    "circ[circ>15] = 0\n",
    "plt.figure()\n",
    "plt.pcolormesh(x, y, circ, cmap='Greys')\n",
    "plt.axis('equal')\n",
    "# plt.axis('equal')\n",
    "# plt.figure()\n",
    "temp = np.roll(circ,\n",
    "               (int(np.rint(y_correct[0]/250)), int(np.rint(x_correct[0]/250))),\n",
    "               axis=(0, 1))*.5 + circ\n",
    "\n",
    "plt.figure()\n",
    "plt.pcolormesh(x, y, temp, cmap='Greys')\n",
    "plt.axis('equal')"
   ]
  },
  {
   "cell_type": "code",
   "execution_count": 12,
   "metadata": {
    "collapsed": false
   },
   "outputs": [
    {
     "data": {
      "text/plain": [
       "389"
      ]
     },
     "execution_count": 12,
     "metadata": {},
     "output_type": "execute_result"
    }
   ],
   "source": [
    "y_correct.size"
   ]
  },
  {
   "cell_type": "code",
   "execution_count": 18,
   "metadata": {
    "collapsed": false,
    "scrolled": true
   },
   "outputs": [],
   "source": [
    "for t in np.arange(x_correct.size):\n",
    "    temp = np.roll(circ,\n",
    "                   (int(np.rint(y_correct[t]/250)), -int(np.rint(x_correct[t]/250))),\n",
    "                   axis=(0, 1))*.5 + circ\n",
    "    temp = temp.clip(max=1)\n",
    "    fig, ax = plt.subplots()\n",
    "    ax.pcolormesh(x, y, temp, cmap='Greys')\n",
    "    plt.axis('equal')\n",
    "    plt.title('Time: ' + str(times[t].time()))\n",
    "    plt.axis([-50, 50, -50, 50])\n",
    "    ax.set(adjustable='box-forced', aspect='equal')\n",
    "    plt.savefig('paralax_movie/zfig{0:04}.png'.format(t))\n",
    "    plt.close('all')"
   ]
  },
  {
   "cell_type": "code",
   "execution_count": null,
   "metadata": {
    "collapsed": false
   },
   "outputs": [],
   "source": [
    "str(times[100].time())"
   ]
  },
  {
   "cell_type": "code",
   "execution_count": null,
   "metadata": {
    "collapsed": false
   },
   "outputs": [],
   "source": [
    "plt.figure()\n",
    "plt.plot(x_correct/250)"
   ]
  }
 ],
 "metadata": {
  "kernelspec": {
   "display_name": "Python 3",
   "language": "python",
   "name": "python3"
  },
  "language_info": {
   "codemirror_mode": {
    "name": "ipython",
    "version": 3
   },
   "file_extension": ".py",
   "mimetype": "text/x-python",
   "name": "python",
   "nbconvert_exporter": "python",
   "pygments_lexer": "ipython3",
   "version": "3.5.0rc4"
  }
 },
 "nbformat": 4,
 "nbformat_minor": 0
}
