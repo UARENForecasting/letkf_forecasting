{
 "cells": [
  {
   "cell_type": "code",
   "execution_count": null,
   "metadata": {
    "collapsed": false
   },
   "outputs": [],
   "source": [
    "import sys\n",
    "import importlib\n",
    "\n",
    "import numpy as np\n",
    "import pandas as pd\n",
    "import xarray as xr\n",
    "import pvlib as pv"
   ]
  },
  {
   "cell_type": "code",
   "execution_count": 20,
   "metadata": {
    "collapsed": false
   },
   "outputs": [],
   "source": [
    "sys.path.append('/home/travis/python_code/letkf_forecasting/')\n",
    "import letkf_forecasting as lf"
   ]
  },
  {
   "cell_type": "code",
   "execution_count": null,
   "metadata": {
    "collapsed": false
   },
   "outputs": [],
   "source": [
    "importlib.reload(letkf)"
   ]
  },
  {
   "cell_type": "code",
   "execution_count": 5,
   "metadata": {
    "collapsed": false
   },
   "outputs": [],
   "source": [
    "#for Golem\n",
    "sat_14 = xr.open_dataset('/home/travis/python_code/forecasting/current_data/sat_14.nc')\n",
    "sat_15 = xr.open_dataset('/home/travis/python_code/forecasting/current_data/sat_15.nc')\n",
    "wind_15 = xr.open_dataset('/home/travis/python_code/forecasting/current_data/wind_15_crop.nc')\n",
    "sensor_data = pd.read_hdf('/home/travis/python_code/forecasting/current_data/sensor_data.h5')\n",
    "sensor_loc = pd.read_hdf('/home/travis/python_code/forecasting/current_data/sensor_loc.h5')"
   ]
  },
  {
   "cell_type": "code",
   "execution_count": 6,
   "metadata": {
    "collapsed": false
   },
   "outputs": [],
   "source": [
    "sensor_loc2 = np.concatenate([sensor_loc['lat'].values[:, None],\n",
    "                              sensor_loc['lon'].values[:, None]],\n",
    "                             axis=1)\n",
    "sat_loc = np.concatenate([sat_15.lat.values.ravel()[:, None],\n",
    "                          sat_15.long.values.ravel()[:, None]],\n",
    "                         axis=1)"
   ]
  },
  {
   "cell_type": "code",
   "execution_count": 26,
   "metadata": {
    "collapsed": false
   },
   "outputs": [
    {
     "name": "stdout",
     "output_type": "stream",
     "text": [
      "(27, 3)\n"
     ]
    }
   ],
   "source": [
    "sensor_loc3, H = letkf.forward_obs_mat(sensor_loc2, sat_loc)"
   ]
  },
  {
   "cell_type": "code",
   "execution_count": 92,
   "metadata": {
    "collapsed": false
   },
   "outputs": [
    {
     "data": {
      "text/plain": [
       "(array([ 4502.7974688]), array([ 2902.55179225]))"
      ]
     },
     "execution_count": 92,
     "metadata": {},
     "output_type": "execute_result"
    }
   ],
   "source": [
    "#This is taken from http://www.groundcontrol.com/Satellite_Look_Angle_Calculator.html\n",
    "goes15_azimuth = 220.5*(2*np.pi)/360\n",
    "goes15_elevation = 44.1*(2*np.pi)/360\n",
    "\n",
    "time = pd.Timestamp('2014-04-15 11:00:00').tz_localize('MST')\n",
    "tus = pv.location.Location(32.2, -111, 'US/Arizona', 700,'Tucson')\n",
    "solar_position = tus.get_solarposition(time)\n",
    "letkf.parallax_shift(2000,\n",
    "                     goes15_azimuth,\n",
    "                     goes15_elevation,\n",
    "                     solar_position['azimuth'].values*np.pi/360,\n",
    "                     solar_position['elevation'].values*np.pi/360)"
   ]
  },
  {
   "cell_type": "code",
   "execution_count": null,
   "metadata": {
    "collapsed": true
   },
   "outputs": [],
   "source": [
    "dx = 250 #in km\n",
    "dy = 250 #in km\n",
    "C_max = .7\n",
    "kalman_grid_size = 4\n",
    "localization = 12\n",
    "\n",
    "start_time = '2014-04-15 11:00:00'\n",
    "end_time = '2014-04-15 13:00:00'\n",
    "\n",
    "simulation(sat_15, wind_15, sensor_data, sensor_loc,\n",
    "           start_time, end_time, dx, dy, C_max,\n",
    "           assimilaiton_grid_size, localization)"
   ]
  }
 ],
 "metadata": {
  "kernelspec": {
   "display_name": "Python 3",
   "language": "python",
   "name": "python3"
  },
  "language_info": {
   "codemirror_mode": {
    "name": "ipython",
    "version": 3
   },
   "file_extension": ".py",
   "mimetype": "text/x-python",
   "name": "python",
   "nbconvert_exporter": "python",
   "pygments_lexer": "ipython3",
   "version": "3.5.0rc4"
  }
 },
 "nbformat": 4,
 "nbformat_minor": 0
}
