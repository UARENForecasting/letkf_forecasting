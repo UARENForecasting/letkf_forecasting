{
 "cells": [
  {
   "cell_type": "code",
   "execution_count": 3,
   "metadata": {
    "collapsed": false
   },
   "outputs": [],
   "source": [
    "import sys\n",
    "import importlib\n",
    "\n",
    "import numpy as np\n",
    "import pandas as pd\n",
    "import xarray as xr\n",
    "import pvlib as pv\n",
    "import matplotlib.pyplot as plt"
   ]
  },
  {
   "cell_type": "code",
   "execution_count": 39,
   "metadata": {
    "collapsed": true
   },
   "outputs": [],
   "source": [
    "%matplotlib inline"
   ]
  },
  {
   "cell_type": "code",
   "execution_count": 5,
   "metadata": {
    "collapsed": false
   },
   "outputs": [],
   "source": [
    "sys.path.append('/home/travis/python_code/letkf_forecasting/')\n",
    "import letkf_forecasting as lf"
   ]
  },
  {
   "cell_type": "code",
   "execution_count": 15,
   "metadata": {
    "collapsed": false,
    "scrolled": false
   },
   "outputs": [
    {
     "data": {
      "text/plain": [
       "<module 'letkf_forecasting' from '/home/travis/python_code/letkf_forecasting/letkf_forecasting.py'>"
      ]
     },
     "execution_count": 15,
     "metadata": {},
     "output_type": "execute_result"
    }
   ],
   "source": [
    "importlib.reload(lf)"
   ]
  },
  {
   "cell_type": "code",
   "execution_count": 6,
   "metadata": {
    "collapsed": false
   },
   "outputs": [],
   "source": [
    "#for Golem\n",
    "sat_14 = xr.open_dataset('/home/travis/python_code/forecasting/current_data/sat_14.nc')\n",
    "sat_15 = xr.open_dataset('/home/travis/python_code/forecasting/current_data/sat_15.nc')\n",
    "wind_15 = xr.open_dataset('/home/travis/python_code/forecasting/current_data/wind_15_crop.nc')\n",
    "sensor_data = pd.read_hdf('/home/travis/python_code/forecasting/current_data/sensor_data.h5')\n",
    "sensor_loc = pd.read_hdf('/home/travis/python_code/forecasting/current_data/sensor_loc.h5')"
   ]
  },
  {
   "cell_type": "code",
   "execution_count": 7,
   "metadata": {
    "collapsed": true
   },
   "outputs": [],
   "source": [
    "clear_sky_good = xr.DataArray(\n",
    "    data=sat_15.GHI.values/sat_14.GHI.values,\n",
    "    coords=sat_15.coords)\n",
    "\n",
    "sat_15['clear_sky_good'] = clear_sky_good"
   ]
  },
  {
   "cell_type": "code",
   "execution_count": 8,
   "metadata": {
    "collapsed": false,
    "scrolled": true
   },
   "outputs": [],
   "source": [
    "sensor_CI = sensor_data[['clearsky_index', 'id']]\n",
    "sensor_CI = sensor_CI.reset_index().pivot(\n",
    "    index='time', columns='id', values='clearsky_index')\n",
    "sensor_CI = sensor_CI.resample('5min').mean().dropna()"
   ]
  },
  {
   "cell_type": "code",
   "execution_count": 111,
   "metadata": {
    "collapsed": false
   },
   "outputs": [
    {
     "data": {
      "text/plain": [
       "(array([ 4502.7974688]), array([ 2902.55179225]))"
      ]
     },
     "execution_count": 111,
     "metadata": {},
     "output_type": "execute_result"
    }
   ],
   "source": [
    "#This is taken from http://www.groundcontrol.com/Satellite_Look_Angle_Calculator.html\n",
    "goes15_azimuth = 220.5*(2*np.pi)/360\n",
    "goes15_elevation = 44.1*(2*np.pi)/360\n",
    "\n",
    "time = pd.Timestamp('2014-04-15 11:00:00').tz_localize('MST')\n",
    "tus = pv.location.Location(32.2, -111, 'US/Arizona', 700,'Tucson')\n",
    "solar_position = tus.get_solarposition(time)\n",
    "lf.parallax_shift(2000,\n",
    "                     goes15_azimuth,\n",
    "                     goes15_elevation,\n",
    "                     solar_position['azimuth'].values*np.pi/360,\n",
    "                     solar_position['elevation'].values*np.pi/360)"
   ]
  },
  {
   "cell_type": "code",
   "execution_count": 117,
   "metadata": {
    "collapsed": false
   },
   "outputs": [
    {
     "ename": "TypeError",
     "evalue": "Required argument 'seq' (pos 1) not found",
     "output_type": "error",
     "traceback": [
      "\u001b[1;31m\u001b[0m",
      "\u001b[1;31mTypeError\u001b[0mTraceback (most recent call last)",
      "\u001b[1;32m<ipython-input-117-8a2ed314e20f>\u001b[0m in \u001b[0;36m<module>\u001b[1;34m()\u001b[0m\n\u001b[1;32m----> 1\u001b[1;33m \u001b[0mnp\u001b[0m\u001b[1;33m.\u001b[0m\u001b[0mconcatenate\u001b[0m\u001b[1;33m(\u001b[0m\u001b[1;33m)\u001b[0m\u001b[1;33m\u001b[0m\u001b[0m\n\u001b[0m",
      "\u001b[1;31mTypeError\u001b[0m: Required argument 'seq' (pos 1) not found"
     ]
    }
   ],
   "source": [
    "np.concatenate()"
   ]
  },
  {
   "cell_type": "code",
   "execution_count": null,
   "metadata": {
    "collapsed": false,
    "scrolled": true
   },
   "outputs": [],
   "source": [
    "importlib.reload(lf)\n",
    "dx = 250 #in km\n",
    "dy = 250 #in km\n",
    "C_max = 1.2\n",
    "assimilation_grid_size = 40\n",
    "localization = 30\n",
    "\n",
    "sat_sig = .1\n",
    "sensor_sig = .1\n",
    "ens_size = 10\n",
    "wind_sigma = (.4, .05)\n",
    "wind_size = 2\n",
    "\n",
    "start_time = '2014-04-15 13:00:00' #11:00:00 is not a bad start\n",
    "end_time = '2014-04-15 13:30:00' #Gets boring shortly after 14:00:00\n",
    "\n",
    "lf.simulation(sat_15, wind_15, sensor_CI, sensor_loc,\n",
    "              start_time, end_time, dx, dy, C_max,\n",
    "              assimilation_grid_size, localization,\n",
    "              sat_sig, sensor_sig, ens_size, wind_sigma, wind_size)"
   ]
  }
 ],
 "metadata": {
  "kernelspec": {
   "display_name": "Python 3",
   "language": "python",
   "name": "python3"
  },
  "language_info": {
   "codemirror_mode": {
    "name": "ipython",
    "version": 3
   },
   "file_extension": ".py",
   "mimetype": "text/x-python",
   "name": "python",
   "nbconvert_exporter": "python",
   "pygments_lexer": "ipython3",
   "version": "3.5.0rc4"
  }
 },
 "nbformat": 4,
 "nbformat_minor": 0
}
